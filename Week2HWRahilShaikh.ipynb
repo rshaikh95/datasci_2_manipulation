{
  "nbformat": 4,
  "nbformat_minor": 0,
  "metadata": {
    "colab": {
      "provenance": [],
      "authorship_tag": "ABX9TyPwzzDaEuJB6NqPxnoTr7eV",
      "include_colab_link": true
    },
    "kernelspec": {
      "name": "python3",
      "display_name": "Python 3"
    },
    "language_info": {
      "name": "python"
    }
  },
  "cells": [
    {
      "cell_type": "markdown",
      "metadata": {
        "id": "view-in-github",
        "colab_type": "text"
      },
      "source": [
        "<a href=\"https://colab.research.google.com/github/rshaikh95/datasci_2_manipulation/blob/main/Week2HWRahilShaikh.ipynb\" target=\"_parent\"><img src=\"https://colab.research.google.com/assets/colab-badge.svg\" alt=\"Open In Colab\"/></a>"
      ]
    },
    {
      "cell_type": "markdown",
      "source": [
        "\n",
        "\n",
        "> Healthcare Data Cleaning\n",
        "### Load Data\n",
        "\n"
      ],
      "metadata": {
        "id": "CPBQ4K_k0ItC"
      }
    },
    {
      "cell_type": "code",
      "source": [
        "import pandas as pd\n",
        "\n",
        "df = pd.read_csv('https://raw.githubusercontent.com/hantswilliams/HHA_507_2023/main/WK2/data/healthcare_data_cleaning.csv')\n",
        "df\n"
      ],
      "metadata": {
        "id": "Iwq_rNSPVT65"
      },
      "execution_count": null,
      "outputs": []
    },
    {
      "cell_type": "markdown",
      "source": [
        "### Data Interpretation\n",
        "#### This is a dataset regarding patient demographics, vitals and medical records.\n",
        "#### There are a large number of rows and small number of columns. The hospital has a large number of patients which are the rows and the columns display specific info about said patient"
      ],
      "metadata": {
        "id": "7779LSgwWQps"
      }
    },
    {
      "cell_type": "code",
      "source": [
        "# Check the size and shape of the DataFrame\n",
        "print(\"Number of rows:\", df.shape[0])\n",
        "print(\"Number of columns:\", df.shape[1])\n"
      ],
      "metadata": {
        "id": "s6k2FqaTWPp-"
      },
      "execution_count": null,
      "outputs": []
    },
    {
      "cell_type": "markdown",
      "source": [
        "### Data Cleaning"
      ],
      "metadata": {
        "id": "kxMqDgf8qhrp"
      }
    },
    {
      "cell_type": "code",
      "source": [],
      "metadata": {
        "id": "W_oR-faz0o5n"
      },
      "execution_count": null,
      "outputs": []
    },
    {
      "cell_type": "markdown",
      "source": [
        "### Identifying Missing Values"
      ],
      "metadata": {
        "id": "rqMzIdnHvakM"
      }
    },
    {
      "cell_type": "code",
      "source": [
        "# Check for missing values in a column\n",
        "print(df['City of Residence'].isnull().sum())\n",
        "\n",
        "\n",
        "# Fill missing values in a column with a specific value\n",
        "data['Weight'].fillna(0, inplace=True)\n",
        "\n",
        "# Or if we want to fill missing values for all columns:\n",
        "data.fillna(0, inplace=True)"
      ],
      "metadata": {
        "id": "PojvVT3PvfU2"
      },
      "execution_count": null,
      "outputs": []
    },
    {
      "cell_type": "markdown",
      "source": [
        "### Previewing Dataset to remove any duplicate row or columns"
      ],
      "metadata": {
        "id": "no7hBoUCfaBD"
      }
    },
    {
      "cell_type": "code",
      "source": [
        "paymentdue = df[['Patient Age', 'City of Residence']]\n",
        "paymentdue.head(5)\n"
      ],
      "metadata": {
        "id": "aHssOunvfZsd"
      },
      "execution_count": null,
      "outputs": []
    },
    {
      "cell_type": "code",
      "source": [
        "df['City of Residence'].value_counts()\n"
      ],
      "metadata": {
        "id": "v84tmPK9hAkl"
      },
      "execution_count": null,
      "outputs": []
    },
    {
      "cell_type": "code",
      "source": [
        "Duplicate1 = df[df['City of Residence'] == 'Lake Michael']\n",
        "Duplicate1.groupby(['City of Residence']).sum()\n"
      ],
      "metadata": {
        "id": "Ap1ztNl5hzNV"
      },
      "execution_count": null,
      "outputs": []
    }
  ]
}