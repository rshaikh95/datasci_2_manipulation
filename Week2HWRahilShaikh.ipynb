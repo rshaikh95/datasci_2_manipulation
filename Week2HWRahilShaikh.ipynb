{
  "nbformat": 4,
  "nbformat_minor": 0,
  "metadata": {
    "colab": {
      "provenance": [],
      "authorship_tag": "ABX9TyOp6O9rjeL81o+7D8qjDY16",
      "include_colab_link": true
    },
    "kernelspec": {
      "name": "python3",
      "display_name": "Python 3"
    },
    "language_info": {
      "name": "python"
    }
  },
  "cells": [
    {
      "cell_type": "markdown",
      "metadata": {
        "id": "view-in-github",
        "colab_type": "text"
      },
      "source": [
        "<a href=\"https://colab.research.google.com/github/rshaikh95/datasci_2_manipulation/blob/main/Week2HWRahilShaikh.ipynb\" target=\"_parent\"><img src=\"https://colab.research.google.com/assets/colab-badge.svg\" alt=\"Open In Colab\"/></a>"
      ]
    },
    {
      "cell_type": "markdown",
      "source": [
        "\n",
        "\n",
        "> Healthcare Data Cleaning\n",
        "### Load Data\n",
        "\n"
      ],
      "metadata": {
        "id": "CPBQ4K_k0ItC"
      }
    },
    {
      "cell_type": "code",
      "source": [
        "import pandas as pd\n",
        "\n",
        "dfs = pd.read_csv('https://raw.githubusercontent.com/hantswilliams/HHA_507_2023/main/WK2/data/healthcare_data_cleaning.csv')\n",
        "\n"
      ],
      "metadata": {
        "id": "Iwq_rNSPVT65"
      },
      "execution_count": 52,
      "outputs": []
    },
    {
      "cell_type": "markdown",
      "source": [
        "### Data Interpretation\n",
        "#### This is a dataset regarding patient demographics, vitals and medical records.\n",
        "#### There are a large number of rows and small number of columns. The hospital has a large number of patients which are the rows and the columns display specific info about said patient"
      ],
      "metadata": {
        "id": "7779LSgwWQps"
      }
    },
    {
      "cell_type": "code",
      "source": [
        "# Check the size and shape of the DataFrame\n",
        "print(\"Number of rows:\", dfs.shape[0])\n",
        "print(\"Number of columns:\", dfs.shape[1])\n",
        "\n",
        "dfs.columns\n"
      ],
      "metadata": {
        "id": "s6k2FqaTWPp-"
      },
      "execution_count": null,
      "outputs": []
    },
    {
      "cell_type": "markdown",
      "source": [
        "### Identifying Missing Values\n",
        "### Missing Values replaced with 0"
      ],
      "metadata": {
        "id": "rqMzIdnHvakM"
      }
    },
    {
      "cell_type": "code",
      "source": [
        "dfs.replace(\"missing\",0, inplace=True)\n",
        "dfs"
      ],
      "metadata": {
        "id": "PojvVT3PvfU2"
      },
      "execution_count": null,
      "outputs": []
    },
    {
      "cell_type": "markdown",
      "source": [
        "### Data Cleaning: Cleaning Special Characters and White Space"
      ],
      "metadata": {
        "id": "kxMqDgf8qhrp"
      }
    },
    {
      "cell_type": "code",
      "source": [
        "import pandas as pd\n",
        "import re\n",
        "\n",
        "# Function to remove white space and special characters from a value\n",
        "def clean_column_names(df):\n",
        "    # Define a helper function to clean column names\n",
        "    def clean_name(name):\n",
        "        cleaned_name = re.sub(r'[^a-zA-Z0-9]', '', name)\n",
        "        return cleaned_name.lower()\n",
        "\n",
        "    # Rename columns using the helper function\n",
        "    # This is using a list comprehend - e.g., we have a list to the right of the equals sign,\n",
        "    # and inside the list, we are applying our function, for every col (or X) that exists in df.columns\n",
        "    df.columns = [clean_name(col) for col in df.columns]\n",
        "    return df\n",
        "\n",
        "# Apply the clean_value function to all columns\n",
        "dfs = clean_column_names(dfs)\n",
        "\n",
        "dfs.columns\n",
        "\n",
        "\n"
      ],
      "metadata": {
        "id": "W_oR-faz0o5n",
        "outputId": "a2d63c5f-fca4-4a24-b5e7-44bf78384e68",
        "colab": {
          "base_uri": "https://localhost:8080/"
        }
      },
      "execution_count": 55,
      "outputs": [
        {
          "output_type": "execute_result",
          "data": {
            "text/plain": [
              "Index(['patientage', 'gender', 'cityofresidence', 'stateofresidence',\n",
              "       'hasinsurance', 'visitedlastmonth', 'paymentmethod', 'preferreddoctor',\n",
              "       'diseasediagnosed', 'medicationprescribed', 'typeofappointment',\n",
              "       'averageheartrate', 'averagebp', 'heightincm', 'weightinkg',\n",
              "       'paymentdue', 'lastvisitdaysago', 'visitdurationmins', 'numberoftests',\n",
              "       'prescriptioncost'],\n",
              "      dtype='object')"
            ]
          },
          "metadata": {},
          "execution_count": 55
        }
      ]
    },
    {
      "cell_type": "markdown",
      "source": [
        "### Previewing Dataset to remove any duplicate row or columns"
      ],
      "metadata": {
        "id": "no7hBoUCfaBD"
      }
    },
    {
      "cell_type": "code",
      "source": [
        "# Identify and remove duplicate rows\n",
        "dfs.drop_duplicates(inplace=True)\n",
        "\n",
        "print(\"Number of rows:\", dfs.shape[0])\n",
        "print(\"Number of columns:\", dfs.shape[1])\n",
        "\n"
      ],
      "metadata": {
        "id": "v84tmPK9hAkl",
        "outputId": "85633f5b-a5ca-40cc-b338-e86b43d8e720",
        "colab": {
          "base_uri": "https://localhost:8080/"
        }
      },
      "execution_count": 56,
      "outputs": [
        {
          "output_type": "stream",
          "name": "stdout",
          "text": [
            "Number of rows: 100000\n",
            "Number of columns: 20\n"
          ]
        }
      ]
    },
    {
      "cell_type": "markdown",
      "source": [
        "# Data Transformation\n",
        "### Creating New Columns: BP and HR columns for High levels"
      ],
      "metadata": {
        "id": "YBcGEp24eWzv"
      }
    },
    {
      "cell_type": "code",
      "source": [
        "\n",
        "threshold_high = 140\n",
        "\n",
        "dfs['BloodPressureStatus'] = dfs['averagebp'].apply(lambda x: 'High' if int(x) >= threshold_high else 'Normal')\n",
        "\n",
        "\n",
        "print(dfs[['patientage', 'averagebp', 'BloodPressureStatus']].head(10))\n"
      ],
      "metadata": {
        "id": "LoDzqn22gR78"
      },
      "execution_count": null,
      "outputs": []
    },
    {
      "cell_type": "code",
      "source": [
        "\n",
        "HR_high = 160\n",
        "\n",
        "dfs['HRStatus'] = dfs['averageheartrate'].apply(lambda x: 'Tachycardia' if int(x) >= HR_high else 'Normal')\n",
        "\n",
        "\n",
        "print(dfs[['patientage', 'averageheartrate', 'HRStatus']].head(10))\n"
      ],
      "metadata": {
        "id": "oRFDBuyfwXTd"
      },
      "execution_count": null,
      "outputs": []
    },
    {
      "cell_type": "markdown",
      "source": [
        "### Aggregating Data using groupby and summary stats\n",
        "### Pivot Table for multidimensional analysis"
      ],
      "metadata": {
        "id": "MhSWfUXY6BMX"
      }
    },
    {
      "cell_type": "code",
      "source": [
        "grouped_data = dfs.groupby('averageheartrate').mean({\n",
        "    'HRStatus': 'mean'\n",
        "})\n",
        "print(grouped_data)\n"
      ],
      "metadata": {
        "id": "hRkFHYaB6Kpu"
      },
      "execution_count": null,
      "outputs": []
    },
    {
      "cell_type": "code",
      "source": [
        "diagnosis_pivot = dfs.pivot_table(values='patientage', index='diseasediagnosed', columns='gender', aggfunc='count')\n",
        "print(diagnosis_pivot)\n",
        "\n"
      ],
      "metadata": {
        "id": "ysDiM17lAUp5"
      },
      "execution_count": null,
      "outputs": []
    },
    {
      "cell_type": "markdown",
      "source": [
        "# Alternative Libraries\n",
        "### Loading Data with Polar and Dask\n",
        "### Comparing Speed Times"
      ],
      "metadata": {
        "id": "aXwQ7UqMBvzY"
      }
    },
    {
      "cell_type": "code",
      "source": [
        "\n",
        "import polars as pl\n",
        "\n",
        "# Load a dataset of patient records\n",
        "df1 = pl.read_csv(\"https://raw.githubusercontent.com/hantswilliams/HHA_507_2023/main/WK2/data/healthcare_data_cleaning.csv\")\n",
        "df1\n"
      ],
      "metadata": {
        "id": "VBqxtFAMBzvh"
      },
      "execution_count": null,
      "outputs": []
    },
    {
      "cell_type": "code",
      "source": [
        "\n",
        "import dask.dataframe as dd\n",
        "dff = dd.read_csv('/content/healthcare_data_cleaning.csv')\n",
        "dff\n",
        "\n"
      ],
      "metadata": {
        "id": "3D_ugYic8gxH"
      },
      "execution_count": null,
      "outputs": []
    },
    {
      "cell_type": "code",
      "source": [
        "import polars as pl\n",
        "import pandas as pd\n",
        "import time\n",
        "\n",
        "# Define the dataset path\n",
        "dataset_path = '/content/Abdul218_Harris789_b0a06ead-cc42-aa48-dad6-841d4aa679fa.json'\n",
        "\n",
        "# Using Polar\n",
        "start_time = time.time()\n",
        "pl_df1 = pl.read_csv('/content/healthcare_data_cleaning.csv')\n",
        "pl_filtered = pl_df1[pl_df1['Average Heart Rate'] < 100]\n",
        "polars_average_age = pl_filtered['Patient Age'].mean()\n",
        "pl_time = time.time() - start_time\n",
        "\n",
        "# Using Pandas\n",
        "start_time = time.time()\n",
        "pd_df2 = pd.read_csv('/content/healthcare_data_cleaning.csv')\n",
        "pd_filtered = pd_df2[pandas_df2['Average Heart Rate'] < 100]\n",
        "pd_average_age = pd_filtered['Patient Age'].mean()\n",
        "pd_time = time.time() - start_time\n",
        "\n",
        "# Print results and execution times\n",
        "print(f\"Polars Average Age of Patients with Flu: {pl_average_age:.2f} years\")\n",
        "print(f\"Pandas Average Age of Patients with Flu: {pd_average_age:.2f} years\")\n",
        "print(f\"Polars Execution Time: {pl_time:.4f} seconds\")\n",
        "print(f\"Pandas Execution Time: {pd:.4f} seconds\")"
      ],
      "metadata": {
        "id": "8e0spTtJ9PtV",
        "outputId": "79177761-ff63-404a-a68c-95f2de0bab49",
        "colab": {
          "base_uri": "https://localhost:8080/",
          "height": 869
        }
      },
      "execution_count": 75,
      "outputs": [
        {
          "output_type": "error",
          "ename": "ValueError",
          "evalue": "ignored",
          "traceback": [
            "\u001b[0;31m---------------------------------------------------------------------------\u001b[0m",
            "\u001b[0;31mValueError\u001b[0m                                Traceback (most recent call last)",
            "\u001b[0;32m<ipython-input-75-d9b0ef7f2a7c>\u001b[0m in \u001b[0;36m<cell line: 11>\u001b[0;34m()\u001b[0m\n\u001b[1;32m      9\u001b[0m \u001b[0mstart_time\u001b[0m \u001b[0;34m=\u001b[0m \u001b[0mtime\u001b[0m\u001b[0;34m.\u001b[0m\u001b[0mtime\u001b[0m\u001b[0;34m(\u001b[0m\u001b[0;34m)\u001b[0m\u001b[0;34m\u001b[0m\u001b[0;34m\u001b[0m\u001b[0m\n\u001b[1;32m     10\u001b[0m \u001b[0mpl_df1\u001b[0m \u001b[0;34m=\u001b[0m \u001b[0mpl\u001b[0m\u001b[0;34m.\u001b[0m\u001b[0mread_csv\u001b[0m\u001b[0;34m(\u001b[0m\u001b[0;34m'/content/healthcare_data_cleaning.csv'\u001b[0m\u001b[0;34m)\u001b[0m\u001b[0;34m\u001b[0m\u001b[0;34m\u001b[0m\u001b[0m\n\u001b[0;32m---> 11\u001b[0;31m \u001b[0mpl_filtered\u001b[0m \u001b[0;34m=\u001b[0m \u001b[0mpl_df1\u001b[0m\u001b[0;34m[\u001b[0m\u001b[0mpl_df1\u001b[0m\u001b[0;34m[\u001b[0m\u001b[0;34m'Average Heart Rate'\u001b[0m\u001b[0;34m]\u001b[0m \u001b[0;34m<\u001b[0m \u001b[0;36m100\u001b[0m\u001b[0;34m]\u001b[0m\u001b[0;34m\u001b[0m\u001b[0;34m\u001b[0m\u001b[0m\n\u001b[0m\u001b[1;32m     12\u001b[0m \u001b[0mpolars_average_age\u001b[0m \u001b[0;34m=\u001b[0m \u001b[0mpl_filtered\u001b[0m\u001b[0;34m[\u001b[0m\u001b[0;34m'Patient Age'\u001b[0m\u001b[0;34m]\u001b[0m\u001b[0;34m.\u001b[0m\u001b[0mmean\u001b[0m\u001b[0;34m(\u001b[0m\u001b[0;34m)\u001b[0m\u001b[0;34m\u001b[0m\u001b[0;34m\u001b[0m\u001b[0m\n\u001b[1;32m     13\u001b[0m \u001b[0mpl_time\u001b[0m \u001b[0;34m=\u001b[0m \u001b[0mtime\u001b[0m\u001b[0;34m.\u001b[0m\u001b[0mtime\u001b[0m\u001b[0;34m(\u001b[0m\u001b[0;34m)\u001b[0m \u001b[0;34m-\u001b[0m \u001b[0mstart_time\u001b[0m\u001b[0;34m\u001b[0m\u001b[0;34m\u001b[0m\u001b[0m\n",
            "\u001b[0;32m/usr/local/lib/python3.10/dist-packages/polars/dataframe/frame.py\u001b[0m in \u001b[0;36m__getitem__\u001b[0;34m(self, item)\u001b[0m\n\u001b[1;32m   1658\u001b[0m \u001b[0;34m\u001b[0m\u001b[0m\n\u001b[1;32m   1659\u001b[0m         \u001b[0;31m# if no data has been returned, the operation is not supported\u001b[0m\u001b[0;34m\u001b[0m\u001b[0;34m\u001b[0m\u001b[0m\n\u001b[0;32m-> 1660\u001b[0;31m         raise ValueError(\n\u001b[0m\u001b[1;32m   1661\u001b[0m             \u001b[0;34mf\"Cannot __getitem__ on DataFrame with item: '{item}'\"\u001b[0m\u001b[0;34m\u001b[0m\u001b[0;34m\u001b[0m\u001b[0m\n\u001b[1;32m   1662\u001b[0m             \u001b[0;34mf\" of type: '{type(item)}'.\"\u001b[0m\u001b[0;34m\u001b[0m\u001b[0;34m\u001b[0m\u001b[0m\n",
            "\u001b[0;31mValueError\u001b[0m: Cannot __getitem__ on DataFrame with item: 'shape: (105_000,)\nSeries: 'Average Heart Rate' [bool]\n[\n\tfalse\n\tfalse\n\tfalse\n\tfalse\n\tfalse\n\tfalse\n\tfalse\n\tfalse\n\tfalse\n\tfalse\n\tfalse\n\tfalse\n\t…\n\tfalse\n\tfalse\n\tfalse\n\tfalse\n\tfalse\n\tfalse\n\tfalse\n\tfalse\n\tfalse\n\tfalse\n\tfalse\n\tfalse\n\tfalse\n]' of type: '<class 'polars.series.series.Series'>'."
          ]
        }
      ]
    }
  ]
}