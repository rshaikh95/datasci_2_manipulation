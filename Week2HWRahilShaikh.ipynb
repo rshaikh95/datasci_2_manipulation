{
  "nbformat": 4,
  "nbformat_minor": 0,
  "metadata": {
    "colab": {
      "provenance": [],
      "toc_visible": true,
      "authorship_tag": "ABX9TyP4P2OtwJEl1g/WyiFlxe3K",
      "include_colab_link": true
    },
    "kernelspec": {
      "name": "python3",
      "display_name": "Python 3"
    },
    "language_info": {
      "name": "python"
    }
  },
  "cells": [
    {
      "cell_type": "markdown",
      "metadata": {
        "id": "view-in-github",
        "colab_type": "text"
      },
      "source": [
        "<a href=\"https://colab.research.google.com/github/rshaikh95/datasci_2_manipulation/blob/main/Week2HWRahilShaikh.ipynb\" target=\"_parent\"><img src=\"https://colab.research.google.com/assets/colab-badge.svg\" alt=\"Open In Colab\"/></a>"
      ]
    },
    {
      "cell_type": "markdown",
      "source": [
        "\n",
        "\n",
        "> Healthcare Data Cleaning\n",
        "### Load Data\n",
        "\n"
      ],
      "metadata": {
        "id": "CPBQ4K_k0ItC"
      }
    },
    {
      "cell_type": "code",
      "source": [
        "import pandas as pd\n",
        "\n",
        "dfs = pd.read_csv('https://raw.githubusercontent.com/hantswilliams/HHA_507_2023/main/WK2/data/healthcare_data_cleaning.csv')\n",
        "\n"
      ],
      "metadata": {
        "id": "Iwq_rNSPVT65"
      },
      "execution_count": 167,
      "outputs": []
    },
    {
      "cell_type": "markdown",
      "source": [
        "### Data Interpretation\n",
        "#### This is a dataset regarding patient demographics, vitals and medical records.\n",
        "#### There are a large number of rows and small number of columns. The hospital has a large number of patients which are the rows and the columns display specific info about said patient"
      ],
      "metadata": {
        "id": "7779LSgwWQps"
      }
    },
    {
      "cell_type": "code",
      "source": [
        "# Check the size and shape of the DataFrame\n",
        "print(\"Number of rows:\", dfs.shape[0])\n",
        "print(\"Number of columns:\", dfs.shape[1])\n",
        "\n",
        "dfs.columns\n"
      ],
      "metadata": {
        "id": "s6k2FqaTWPp-",
        "outputId": "cc158bf8-7d3a-45c2-f3c2-1d963ac75652",
        "colab": {
          "base_uri": "https://localhost:8080/"
        }
      },
      "execution_count": 168,
      "outputs": [
        {
          "output_type": "stream",
          "name": "stdout",
          "text": [
            "Number of rows: 105000\n",
            "Number of columns: 20\n"
          ]
        },
        {
          "output_type": "execute_result",
          "data": {
            "text/plain": [
              "Index(['Patient Age', 'Gender', 'City of Residence', 'State of Residence',\n",
              "       'Has Insurance', 'Visited Last Month', 'Payment Method',\n",
              "       'Preferred Doctor', 'Disease Diagnosed', 'Medication Prescribed',\n",
              "       'Type of Appointment', 'Average Heart Rate', 'Average BP',\n",
              "       'Height (in cm)', 'Weight (in kg)', 'Payment Due ($)',\n",
              "       'Last Visit (days ago)', 'Visit Duration (mins)', 'Number of Tests',\n",
              "       'Prescription Cost ($)'],\n",
              "      dtype='object')"
            ]
          },
          "metadata": {},
          "execution_count": 168
        }
      ]
    },
    {
      "cell_type": "markdown",
      "source": [
        "### Identifying Missing Values\n",
        "### Missing Values replaced with 0"
      ],
      "metadata": {
        "id": "rqMzIdnHvakM"
      }
    },
    {
      "cell_type": "code",
      "source": [
        "dfs.replace(\"missing\",0, inplace=True)\n",
        "dfs"
      ],
      "metadata": {
        "id": "PojvVT3PvfU2"
      },
      "execution_count": null,
      "outputs": []
    },
    {
      "cell_type": "markdown",
      "source": [
        "### Data Cleaning: Cleaning Special Characters and White Space"
      ],
      "metadata": {
        "id": "kxMqDgf8qhrp"
      }
    },
    {
      "cell_type": "code",
      "source": [
        "import pandas as pd\n",
        "import re\n",
        "\n",
        "# Function to remove white space and special characters from a value\n",
        "def clean_column_names(df):\n",
        "    # Define a helper function to clean column names\n",
        "    def clean_name(name):\n",
        "        cleaned_name = re.sub(r'[^a-zA-Z0-9]', '', name)\n",
        "        return cleaned_name.lower()\n",
        "\n",
        "    # Rename columns using the helper function\n",
        "    # This is using a list comprehend - e.g., we have a list to the right of the equals sign,\n",
        "    # and inside the list, we are applying our function, for every col (or X) that exists in df.columns\n",
        "    df.columns = [clean_name(col) for col in df.columns]\n",
        "    return df\n",
        "\n",
        "# Apply the clean_value function to all columns\n",
        "dfs = clean_column_names(dfs)\n",
        "\n",
        "dfs.columns\n",
        "\n",
        "\n"
      ],
      "metadata": {
        "id": "W_oR-faz0o5n",
        "outputId": "e43a567d-8f13-4b41-e3b7-8770167f9440",
        "colab": {
          "base_uri": "https://localhost:8080/"
        }
      },
      "execution_count": 170,
      "outputs": [
        {
          "output_type": "execute_result",
          "data": {
            "text/plain": [
              "Index(['patientage', 'gender', 'cityofresidence', 'stateofresidence',\n",
              "       'hasinsurance', 'visitedlastmonth', 'paymentmethod', 'preferreddoctor',\n",
              "       'diseasediagnosed', 'medicationprescribed', 'typeofappointment',\n",
              "       'averageheartrate', 'averagebp', 'heightincm', 'weightinkg',\n",
              "       'paymentdue', 'lastvisitdaysago', 'visitdurationmins', 'numberoftests',\n",
              "       'prescriptioncost'],\n",
              "      dtype='object')"
            ]
          },
          "metadata": {},
          "execution_count": 170
        }
      ]
    },
    {
      "cell_type": "markdown",
      "source": [
        "### Previewing Dataset to remove any duplicate row or columns"
      ],
      "metadata": {
        "id": "no7hBoUCfaBD"
      }
    },
    {
      "cell_type": "code",
      "source": [
        "# Identify and remove duplicate rows\n",
        "dfs.drop_duplicates(inplace=True)\n",
        "\n",
        "print(\"Number of rows:\", dfs.shape[0])\n",
        "print(\"Number of columns:\", dfs.shape[1])\n",
        "\n"
      ],
      "metadata": {
        "id": "v84tmPK9hAkl"
      },
      "execution_count": null,
      "outputs": []
    },
    {
      "cell_type": "markdown",
      "source": [
        "# Data Transformation\n",
        "### Creating New Columns: BP and HR columns for High levels"
      ],
      "metadata": {
        "id": "YBcGEp24eWzv"
      }
    },
    {
      "cell_type": "code",
      "source": [
        "\n",
        "threshold_high = 140\n",
        "\n",
        "dfs['BloodPressureStatus'] = dfs['averagebp'].apply(lambda x: 'High' if int(x) >= threshold_high else 'Normal')\n",
        "\n",
        "\n",
        "print(dfs[['patientage', 'averagebp', 'BloodPressureStatus']].head(10))\n"
      ],
      "metadata": {
        "id": "LoDzqn22gR78"
      },
      "execution_count": null,
      "outputs": []
    },
    {
      "cell_type": "code",
      "source": [
        "\n",
        "HR_high = 160\n",
        "\n",
        "dfs['HRStatus'] = dfs['averageheartrate'].apply(lambda x: 'Tachycardia' if int(x) >= HR_high else 'Normal')\n",
        "\n",
        "\n",
        "print(dfs[['patientage', 'averageheartrate', 'HRStatus']].head(10))\n"
      ],
      "metadata": {
        "id": "oRFDBuyfwXTd"
      },
      "execution_count": null,
      "outputs": []
    },
    {
      "cell_type": "markdown",
      "source": [
        "### Aggregating Data using groupby and summary stats\n",
        "### Pivot Table for multidimensional analysis"
      ],
      "metadata": {
        "id": "MhSWfUXY6BMX"
      }
    },
    {
      "cell_type": "code",
      "source": [
        "grouped_data = dfs.groupby('averageheartrate').mean({\n",
        "    'HRStatus': 'mean'\n",
        "})\n",
        "print(grouped_data)\n"
      ],
      "metadata": {
        "id": "hRkFHYaB6Kpu",
        "outputId": "a83c2c8d-8e6d-4b50-af5b-834afe301666",
        "colab": {
          "base_uri": "https://localhost:8080/"
        }
      },
      "execution_count": 221,
      "outputs": [
        {
          "output_type": "stream",
          "name": "stdout",
          "text": [
            "Empty DataFrame\n",
            "Columns: []\n",
            "Index: [0, 100, 101, 102, 103, 104, 105, 106, 107, 108, 109, 110, 111, 112, 113, 114, 115, 116, 117, 119, 120, 50, 51, 52, 53, 54, 55, 56, 57, 58, 59, 60, 61, 62, 63, 64, 65, 66, 67, 68, 69, 70, 71, 72, 73, 74, 75, 76, 77, 78, 79, 80, 81, 82, 83, 84, 85, 86, 87, 88, 89, 90, 91, 92, 93, 94, 95, 96, 97, 98, 99]\n",
            "\n",
            "[71 rows x 0 columns]\n"
          ]
        }
      ]
    },
    {
      "cell_type": "code",
      "source": [
        "diagnosis_pivot = dfs.pivot_table(values='patientage', index='diseasediagnosed', columns='gender', aggfunc='count')\n",
        "print(diagnosis_pivot)\n",
        "\n"
      ],
      "metadata": {
        "id": "ysDiM17lAUp5",
        "outputId": "b2e52f15-a3ba-445d-c94d-34c8b90bbb97",
        "colab": {
          "base_uri": "https://localhost:8080/"
        }
      },
      "execution_count": 229,
      "outputs": [
        {
          "output_type": "stream",
          "name": "stdout",
          "text": [
            "gender              0  Female  Male  Other\n",
            "diseasediagnosed                          \n",
            "0                 277    1608  1551   1564\n",
            "Allergy           952    5993  6117   6001\n",
            "Cold              979    6023  6013   5947\n",
            "Covid-19          932    5975  5892   6032\n",
            "Flu               959    5961  6178   6025\n",
            "None              901    6114  5977   6029\n"
          ]
        }
      ]
    },
    {
      "cell_type": "markdown",
      "source": [
        "# Alternative Libraries"
      ],
      "metadata": {
        "id": "aXwQ7UqMBvzY"
      }
    },
    {
      "cell_type": "code",
      "source": [],
      "metadata": {
        "id": "VBqxtFAMBzvh"
      },
      "execution_count": null,
      "outputs": []
    }
  ]
}