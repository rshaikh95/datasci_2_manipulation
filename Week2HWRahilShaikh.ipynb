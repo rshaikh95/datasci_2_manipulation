{
  "nbformat": 4,
  "nbformat_minor": 0,
  "metadata": {
    "colab": {
      "provenance": [],
      "toc_visible": true,
      "authorship_tag": "ABX9TyPgbSaXm3yExfqC9MiQgIVU",
      "include_colab_link": true
    },
    "kernelspec": {
      "name": "python3",
      "display_name": "Python 3"
    },
    "language_info": {
      "name": "python"
    }
  },
  "cells": [
    {
      "cell_type": "markdown",
      "metadata": {
        "id": "view-in-github",
        "colab_type": "text"
      },
      "source": [
        "<a href=\"https://colab.research.google.com/github/rshaikh95/datasci_2_manipulation/blob/main/Week2HWRahilShaikh.ipynb\" target=\"_parent\"><img src=\"https://colab.research.google.com/assets/colab-badge.svg\" alt=\"Open In Colab\"/></a>"
      ]
    },
    {
      "cell_type": "markdown",
      "source": [
        "\n",
        "\n",
        "> Healthcare Data Cleaning\n",
        "### Load Data\n",
        "\n"
      ],
      "metadata": {
        "id": "CPBQ4K_k0ItC"
      }
    },
    {
      "cell_type": "code",
      "source": [
        "import pandas as pd\n",
        "\n",
        "dfs = pd.read_csv('https://raw.githubusercontent.com/hantswilliams/HHA_507_2023/main/WK2/data/healthcare_data_cleaning.csv')\n",
        "\n"
      ],
      "metadata": {
        "id": "Iwq_rNSPVT65"
      },
      "execution_count": null,
      "outputs": []
    },
    {
      "cell_type": "markdown",
      "source": [
        "### Data Interpretation\n",
        "#### This is a dataset regarding patient demographics, vitals and medical records.\n",
        "#### There are a large number of rows and small number of columns. The hospital has a large number of patients which are the rows and the columns display specific info about said patient"
      ],
      "metadata": {
        "id": "7779LSgwWQps"
      }
    },
    {
      "cell_type": "code",
      "source": [
        "# Check the size and shape of the DataFrame\n",
        "print(\"Number of rows:\", dfs.shape[0])\n",
        "print(\"Number of columns:\", dfs.shape[1])\n",
        "\n",
        "dfs.columns\n"
      ],
      "metadata": {
        "id": "s6k2FqaTWPp-"
      },
      "execution_count": null,
      "outputs": []
    },
    {
      "cell_type": "markdown",
      "source": [
        "### Data Cleaning: Cleaning Special Characters and White Space"
      ],
      "metadata": {
        "id": "kxMqDgf8qhrp"
      }
    },
    {
      "cell_type": "code",
      "source": [
        "import pandas as pd\n",
        "import re\n",
        "\n",
        "# Function to remove white space and special characters from a value\n",
        "def clean_column_names(df):\n",
        "    # Define a helper function to clean column names\n",
        "    def clean_name(name):\n",
        "        cleaned_name = re.sub(r'[^a-zA-Z0-9]', '', name)\n",
        "        return cleaned_name.lower()\n",
        "\n",
        "    # Rename columns using the helper function\n",
        "    # This is using a list comprehend - e.g., we have a list to the right of the equals sign,\n",
        "    # and inside the list, we are applying our function, for every col (or X) that exists in df.columns\n",
        "    df.columns = [clean_name(col) for col in df.columns]\n",
        "    return df\n",
        "\n",
        "# Apply the clean_value function to all columns\n",
        "dfs = clean_column_names(dfs)\n",
        "\n",
        "dfs.columns\n",
        "\n",
        "\n"
      ],
      "metadata": {
        "id": "W_oR-faz0o5n",
        "colab": {
          "base_uri": "https://localhost:8080/"
        },
        "outputId": "bad27aca-98f0-423e-aa0e-2854c3554056"
      },
      "execution_count": 50,
      "outputs": [
        {
          "output_type": "execute_result",
          "data": {
            "text/plain": [
              "Index(['patientage', 'gender', 'cityofresidence', 'stateofresidence',\n",
              "       'hasinsurance', 'visitedlastmonth', 'paymentmethod', 'preferreddoctor',\n",
              "       'diseasediagnosed', 'medicationprescribed', 'typeofappointment',\n",
              "       'averageheartrate', 'averagebp', 'heightincm', 'weightinkg',\n",
              "       'paymentdue', 'lastvisitdaysago', 'visitdurationmins', 'numberoftests',\n",
              "       'prescriptioncost'],\n",
              "      dtype='object')"
            ]
          },
          "metadata": {},
          "execution_count": 50
        }
      ]
    },
    {
      "cell_type": "markdown",
      "source": [
        "### Identifying Missing Values"
      ],
      "metadata": {
        "id": "rqMzIdnHvakM"
      }
    },
    {
      "cell_type": "code",
      "source": [
        "dfs.fillna(0, inplace=True)\n",
        "\n"
      ],
      "metadata": {
        "id": "PojvVT3PvfU2"
      },
      "execution_count": 60,
      "outputs": []
    },
    {
      "cell_type": "markdown",
      "source": [
        "### Previewing Dataset to remove any duplicate row or columns"
      ],
      "metadata": {
        "id": "no7hBoUCfaBD"
      }
    },
    {
      "cell_type": "code",
      "source": [
        "paymentdue = dfs['patientage']\n",
        "dfs.fillna(missing, inplace=True)\n",
        "paymentdue\n"
      ],
      "metadata": {
        "id": "aHssOunvfZsd",
        "colab": {
          "base_uri": "https://localhost:8080/"
        },
        "outputId": "b3e30a35-a62e-4433-f178-8f497d08b3c8"
      },
      "execution_count": 62,
      "outputs": [
        {
          "output_type": "execute_result",
          "data": {
            "text/plain": [
              "0              45\n",
              "1              25\n",
              "2              51\n",
              "3              18\n",
              "4              48\n",
              "           ...   \n",
              "104995         74\n",
              "104996         37\n",
              "104997         51\n",
              "104998    missing\n",
              "104999         45\n",
              "Name: patientage, Length: 105000, dtype: object"
            ]
          },
          "metadata": {},
          "execution_count": 62
        }
      ]
    },
    {
      "cell_type": "code",
      "source": [
        "dfs['City of Residence'].value_counts()\n"
      ],
      "metadata": {
        "id": "v84tmPK9hAkl"
      },
      "execution_count": null,
      "outputs": []
    },
    {
      "cell_type": "code",
      "source": [
        "Duplicate1 = dfs[dfs['City of Residence'] == 'Lake Michael']\n",
        "Duplicate1.groupby(['City of Residence']).sum()\n"
      ],
      "metadata": {
        "id": "Ap1ztNl5hzNV"
      },
      "execution_count": null,
      "outputs": []
    }
  ]
}